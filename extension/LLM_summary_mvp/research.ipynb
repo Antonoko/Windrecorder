{
 "cells": [
  {
   "cell_type": "markdown",
   "metadata": {},
   "source": [
    "### get raw data"
   ]
  },
  {
   "cell_type": "code",
   "execution_count": null,
   "metadata": {},
   "outputs": [],
   "source": [
    "# Set workspace to Windrecorder dir\n",
    "import os\n",
    "os.chdir(\"..\")\n",
    "os.chdir(\"..\")\n",
    "# ------------------------------------------------------------\n",
    "\n",
    "import datetime\n",
    "import pandas as pd\n",
    "\n",
    "from windrecorder.db_manager import db_manager\n",
    "from windrecorder.oneday import OneDay"
   ]
  },
  {
   "cell_type": "code",
   "execution_count": null,
   "metadata": {},
   "outputs": [],
   "source": [
    "df_day_search_result = OneDay().search_day_data(\n",
    "                    datetime.datetime.today(),\n",
    "                    search_content=\"\",\n",
    "                )\n",
    "\n",
    "df_day_search_result"
   ]
  },
  {
   "cell_type": "markdown",
   "metadata": {},
   "source": [
    "### clean and format data"
   ]
  },
  {
   "cell_type": "code",
   "execution_count": null,
   "metadata": {},
   "outputs": [],
   "source": [
    "df_day_search_result['videofile_time'] = pd.to_datetime(df_day_search_result['videofile_time'], unit='s').dt.strftime('%Y-%m-%d %H-%M-%S')\n",
    "\n",
    "clean_df = pd.DataFrame(columns=['datetime', 'activity', 'ocr_content'])\n",
    "activity_compare_lst = []\n",
    "max_token_limit = 1000000/2.5\n",
    "max_pre_row_token = int(max_token_limit/len(df_day_search_result))\n",
    "activity_deduplication_trace_depth = 10\n",
    "\n",
    "for index, row in df_day_search_result.iterrows():\n",
    "    activity = row['win_title'].split(\" | \")[0]\n",
    "    if activity in activity_compare_lst[-activity_deduplication_trace_depth:] or len(activity) == 0:\n",
    "        continue\n",
    "    activity_compare_lst.append(activity)\n",
    "    ocr_text = row['ocr_text']\n",
    "    \n",
    "    row = {\n",
    "        'datetime': row['videofile_time'],\n",
    "        'activity': activity,\n",
    "        'ocr_content': row['ocr_text'][:max_pre_row_token],\n",
    "    }\n",
    "    clean_df.loc[len(clean_df )] = row\n",
    "\n",
    "clean_df"
   ]
  }
 ],
 "metadata": {
  "kernelspec": {
   "display_name": ".venv",
   "language": "python",
   "name": "python3"
  },
  "language_info": {
   "codemirror_mode": {
    "name": "ipython",
    "version": 3
   },
   "file_extension": ".py",
   "mimetype": "text/x-python",
   "name": "python",
   "nbconvert_exporter": "python",
   "pygments_lexer": "ipython3",
   "version": "3.10.8"
  }
 },
 "nbformat": 4,
 "nbformat_minor": 2
}
