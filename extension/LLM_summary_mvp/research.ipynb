{
 "cells": [
  {
   "cell_type": "markdown",
   "metadata": {},
   "source": [
    "### get raw data"
   ]
  },
  {
   "cell_type": "code",
   "execution_count": null,
   "metadata": {},
   "outputs": [],
   "source": [
    "# Set workspace to Windrecorder dir\n",
    "import os\n",
    "os.chdir(\"..\")\n",
    "os.chdir(\"..\")\n",
    "# ------------------------------------------------------------\n",
    "\n",
    "import datetime\n",
    "import pandas as pd\n",
    "\n",
    "from windrecorder.db_manager import db_manager\n",
    "from windrecorder.oneday import OneDay\n",
    "from windrecorder.record_wintitle import get_wintitle_stat_in_day"
   ]
  },
  {
   "cell_type": "code",
   "execution_count": null,
   "metadata": {},
   "outputs": [],
   "source": [
    "dt_select = datetime.datetime.today()"
   ]
  },
  {
   "cell_type": "code",
   "execution_count": null,
   "metadata": {},
   "outputs": [],
   "source": [
    "df_day_search_result = OneDay().search_day_data(\n",
    "                    dt_select,\n",
    "                    search_content=\"\",\n",
    "                )\n",
    "\n",
    "df_day_search_result"
   ]
  },
  {
   "cell_type": "code",
   "execution_count": null,
   "metadata": {},
   "outputs": [],
   "source": [
    "df_day_activity_raw, day_time_sum = get_wintitle_stat_in_day(dt_select, optimize_for_display=False)\n",
    "df_day_activity_optimize_display, _ = get_wintitle_stat_in_day(dt_select, optimize_for_display=True)\n",
    "\n",
    "df_day_activity_raw"
   ]
  },
  {
   "cell_type": "markdown",
   "metadata": {},
   "source": [
    "### clean and format data"
   ]
  },
  {
   "cell_type": "code",
   "execution_count": null,
   "metadata": {},
   "outputs": [],
   "source": [
    "df_day_search_result['videofile_time'] = pd.to_datetime(df_day_search_result['videofile_time'], unit='s').dt.strftime('%Y-%m-%d %H-%M-%S')\n",
    "\n",
    "clean_df = pd.DataFrame(columns=['datetime', 'activity', 'ocr_content'])\n",
    "activity_compare_lst = []\n",
    "vaild_day_activity_lst = []\n",
    "max_token_limit = 1000000/2.5\n",
    "max_pre_row_token = int(max_token_limit/len(df_day_search_result))\n",
    "activity_deduplication_trace_depth = 10\n",
    "MIN_ACTIVITY_DURATION_SECOND = 30\n",
    "MAX_DAY_ACTIVITY_HEAD_TRUNCATION_FOR_LLM = 20\n",
    "\n",
    "for index, row in df_day_activity_raw.iterrows():\n",
    "    if row['Screen Time'] < MIN_ACTIVITY_DURATION_SECOND:\n",
    "        continue\n",
    "    vaild_day_activity_lst.append(row['Page'])\n",
    "\n",
    "for index, row in df_day_search_result.iterrows():\n",
    "    activity = row['win_title']\n",
    "    \n",
    "    # 剔除过近的重复项\n",
    "    if activity in activity_compare_lst[-activity_deduplication_trace_depth:] or activity not in vaild_day_activity_lst or len(activity.split(\" | \")[0]) == 0:\n",
    "        continue\n",
    "    activity_compare_lst.append(activity)\n",
    "    ocr_text = row['ocr_text']\n",
    "\n",
    "    # 剔除时间过短的项\n",
    "    pass\n",
    "    \n",
    "    row = {\n",
    "        'datetime': row['videofile_time'],\n",
    "        'activity': activity.split(\" | \")[0],\n",
    "        'ocr_content': row['ocr_text'][:max_pre_row_token],\n",
    "    }\n",
    "    clean_df.loc[len(clean_df )] = row\n",
    "\n",
    "df_day_activity_optimize_display = df_day_activity_optimize_display.head(MAX_DAY_ACTIVITY_HEAD_TRUNCATION_FOR_LLM)\n",
    "\n",
    "clean_df"
   ]
  },
  {
   "cell_type": "markdown",
   "metadata": {},
   "source": [
    "### generate prompt context"
   ]
  },
  {
   "cell_type": "code",
   "execution_count": null,
   "metadata": {},
   "outputs": [],
   "source": []
  }
 ],
 "metadata": {
  "kernelspec": {
   "display_name": ".venv",
   "language": "python",
   "name": "python3"
  },
  "language_info": {
   "codemirror_mode": {
    "name": "ipython",
    "version": 3
   },
   "file_extension": ".py",
   "mimetype": "text/x-python",
   "name": "python",
   "nbconvert_exporter": "python",
   "pygments_lexer": "ipython3",
   "version": "3.10.8"
  }
 },
 "nbformat": 4,
 "nbformat_minor": 2
}
