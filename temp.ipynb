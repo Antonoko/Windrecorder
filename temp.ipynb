{
 "cells": [
  {
   "cell_type": "code",
   "execution_count": null,
   "metadata": {},
   "outputs": [],
   "source": [
    "from windrecorder.config import config\n",
    "from windrecorder import utils\n",
    "import datetime\n",
    "per_video_embedding_time = (\n",
    "    datetime.timedelta(minutes=2) * config.record_seconds / 900\n",
    ")\n",
    "eta_process_all_video = 3625 * per_video_embedding_time\n",
    "print(per_video_embedding_time)\n",
    "print(eta_process_all_video)\n",
    "print(eta_process_all_video.total_seconds())\n",
    "print(utils.convert_seconds_to_hhmmss(eta_process_all_video.total_seconds()))\n",
    "\n"
   ]
  },
  {
   "cell_type": "code",
   "execution_count": null,
   "metadata": {},
   "outputs": [],
   "source": [
    "from windrecorder import img_embed_manager\n",
    "\n",
    "model_cpu = img_embed_manager.get_model(mode=\"cpu\")\n",
    "model_cuda = img_embed_manager.get_model(mode=\"cuda\")"
   ]
  },
  {
   "cell_type": "code",
   "execution_count": null,
   "metadata": {},
   "outputs": [],
   "source": [
    "img_embed_manager.embed_img(model=model_cuda, img_filepath=\"test\\\\1.jpg\")"
   ]
  },
  {
   "cell_type": "code",
   "execution_count": null,
   "metadata": {},
   "outputs": [],
   "source": [
    "\n",
    "\n",
    "test_sentences = []\n",
    "for i in range(1000):\n",
    "    test_sentences.append(\"数字化转型正在改变我们的生活。足球是世界上最受欢迎的运动。旅行可以开阔人们的视野。数字化转型正在改变我们的生活。足球是世界上最受欢迎的运动。旅行可以开阔人们的视野。数字化转型正在改变我们的生活。足球是世界上最受欢迎的运动。旅行可以开阔人们的视野。数字化转型正在改变我们的生活。足球是世界上最受欢迎的运动。旅行可以开阔人们的视野。数字化转型正在改变我们的生活。足球是世界上最受欢迎的运动。旅行可以开阔人们的视野。数字化转型正在改变我们的生活。足球是世界上最受欢迎的运动。旅行可以开阔人们的视野。\")\n",
    "\n",
    "vdb = img_embed_manager.VectorDatabase(vdb_filename=\"text_test.bin\", db_dir=\"test\")\n",
    "\n",
    "import time\n",
    "\n",
    "i = 0\n",
    "t = time.time()\n",
    "for text in test_sentences:\n",
    "    print(f\"{i=}, {text=}\")\n",
    "    vector = img_embed_manager.embed_text(model=model_cpu, text_query=text, detach_numpy=False)\n",
    "    vdb.add_vector(vector=vector, rowid=i)\n",
    "    i += 1\n",
    "t=time.time()-t\n",
    "print(f\"{t=}\")"
   ]
  },
  {
   "cell_type": "code",
   "execution_count": null,
   "metadata": {},
   "outputs": [],
   "source": [
    "(30/1000)*200000"
   ]
  },
  {
   "cell_type": "markdown",
   "metadata": {},
   "source": [
    "1000条内容 embedding耗时30s\n"
   ]
  },
  {
   "cell_type": "code",
   "execution_count": null,
   "metadata": {},
   "outputs": [],
   "source": [
    "vector_search = img_embed_manager.embed_text(model=model_cpu, text_query=\"数字化\", detach_numpy=True)\n",
    "vdb.search_vector(vector=vector_search, k=5)"
   ]
  },
  {
   "cell_type": "code",
   "execution_count": null,
   "metadata": {},
   "outputs": [],
   "source": [
    "d = {}\n",
    "for i in range(50000):\n",
    "    d[i] = False"
   ]
  },
  {
   "cell_type": "code",
   "execution_count": null,
   "metadata": {},
   "outputs": [],
   "source": [
    "try:\n",
    "    print(asdasd)\n",
    "except Exception as e:\n",
    "    print(type(e))"
   ]
  },
  {
   "cell_type": "code",
   "execution_count": null,
   "metadata": {},
   "outputs": [],
   "source": [
    "from windrecorder.dbManager import DBManager\n",
    "import sqlite3\n",
    "import pandas as pd\n",
    "\n",
    "data = {'videofile_time': [123, 155, 233, 345, 555, 667, 732]}\n",
    "df = pd.DataFrame(data)\n",
    "\n",
    "nearest_timestamp = 231\n",
    "\n",
    "df_before, df_after = DBManager().split_dataframe_by_nearest_timestamp(df, nearest_timestamp)\n",
    "print(\"DataFrame before nearest timestamp:\")\n",
    "print(df_before)\n",
    "print(\"DataFrame after nearest timestamp:\")\n",
    "print(df_after)"
   ]
  },
  {
   "cell_type": "code",
   "execution_count": null,
   "metadata": {},
   "outputs": [],
   "source": [
    "import pandas as pd\n",
    "\n",
    "# 首先，创建一个空的 DataFrame\n",
    "column_names = ['Column_1', 'Column_2', 'Column_3']\n",
    "empty_df = pd.DataFrame(columns=column_names)\n",
    "\n",
    "print(empty_df)\n",
    "\n",
    "# 要向空的DataFrame添加新行，您可以使用`at` 方法，如下所示：\n",
    "\n",
    "new_data = [\n",
    "    [1, 2, 3],  # Column_1, Column_2, Column_3 的值\n",
    "    [4, 5, 6],  # 关于下一行数据的值\n",
    "    [7, 8, 9]   # 关于下面一行的值\n",
    "]\n",
    "\n",
    "# 把数据插入 empty_df\n",
    "for idx, data in enumerate(new_data):\n",
    "    empty_df.at[idx, 'Column_1'] = data[0]\n",
    "    empty_df.at[idx, 'Column_2'] = data[1]\n",
    "    empty_df.at[idx, 'Column_3'] = data[2]\n",
    "\n",
    "print(empty_df)"
   ]
  },
  {
   "cell_type": "code",
   "execution_count": null,
   "metadata": {},
   "outputs": [],
   "source": [
    "import pandas as pd\n",
    "\n",
    "dataframe_column_names = ['videofile_name', 'picturefile_name', 'videofile_time', 'ocr_text', 'is_videofile_exist', 'is_videofile_exist', 'thumbnail']\n",
    "dataframe_all = pd.DataFrame(columns=dataframe_column_names)\n",
    "# print(dataframe_all)\n",
    "\n",
    "dataframe_all.loc[len(dataframe_all.index)] = [\"vid_file_name\", \"img_file_name\", \"calc_to_sec_data\", \"ocr_result_write\", True, False, \"img_thumbnail\"]\n",
    "dataframe_all.loc[len(dataframe_all.index)] = [\"123\", \"img_file_name\", \"calc_to_sec_data\", \"ocr_result_write\", True, False, \"img_thumbnail\"]\n",
    "dataframe_all.loc[len(dataframe_all.index)] = [\"123123123\", \"img_file_name\", \"calc_to_sec_data\", \"ocr_result_write\", True, False, \"img_thumbnail\"]\n",
    "\n",
    "\n",
    "\n",
    "\n",
    "print(dataframe_all)\n",
    "\n",
    "\n"
   ]
  },
  {
   "cell_type": "code",
   "execution_count": null,
   "metadata": {},
   "outputs": [],
   "source": [
    "import windrecorder.files as files\n",
    "dd = files.get_db_file_path_dict()\n",
    "dd.keys()"
   ]
  },
  {
   "cell_type": "code",
   "execution_count": null,
   "metadata": {},
   "outputs": [],
   "source": [
    "from windrecorder.dbManager import DBManager\n",
    "DBManager().update_videofile_exist_status_new()"
   ]
  },
  {
   "cell_type": "code",
   "execution_count": null,
   "metadata": {},
   "outputs": [],
   "source": [
    "import pandas as pd\n",
    "dataframe_column_names = ['videofile_name', 'picturefile_name', 'videofile_time', 'ocr_text', 'is_videofile_exist', 'is_videofile_exist', 'thumbnail']\n",
    "dataframe_all = pd.DataFrame(columns=dataframe_column_names)\n",
    "len(dataframe_all)"
   ]
  },
  {
   "cell_type": "code",
   "execution_count": 16,
   "metadata": {},
   "outputs": [],
   "source": [
    "def process_file(input_file, output_file):\n",
    "    with open(input_file, 'r', encoding='utf8') as f:\n",
    "        lines = f.readlines()\n",
    "\n",
    "    processed_lines = []\n",
    "\n",
    "    for line in lines:\n",
    "        if '\t' in line:\n",
    "            # line = line[:line.index('\t')]\n",
    "            line = line.split('\t')[0]\n",
    "\n",
    "        line = line.strip()\n",
    "\n",
    "        if len(line) >= 2:\n",
    "            processed_lines.append(line + '\\n')\n",
    "\n",
    "    with open(output_file, 'w', encoding='utf8') as f:\n",
    "        f.writelines(processed_lines)\n",
    "\n",
    "\n",
    "process_file('test\\\\input.txt', 'test\\\\output.txt')"
   ]
  }
 ],
 "metadata": {
  "kernelspec": {
   "display_name": "Python 3",
   "language": "python",
   "name": "python3"
  },
  "language_info": {
   "codemirror_mode": {
    "name": "ipython",
    "version": 3
   },
   "file_extension": ".py",
   "mimetype": "text/x-python",
   "name": "python",
   "nbconvert_exporter": "python",
   "pygments_lexer": "ipython3",
   "version": "3.10.8"
  },
  "orig_nbformat": 4
 },
 "nbformat": 4,
 "nbformat_minor": 2
}
